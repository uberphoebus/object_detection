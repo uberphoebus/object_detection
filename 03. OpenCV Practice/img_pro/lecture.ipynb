{
 "cells": [
  {
   "cell_type": "code",
   "execution_count": 1,
   "metadata": {},
   "outputs": [
    {
     "data": {
      "text/plain": [
       "'4.5.5'"
      ]
     },
     "execution_count": 1,
     "metadata": {},
     "output_type": "execute_result"
    }
   ],
   "source": [
    "import cv2\n",
    "cv2.__version__"
   ]
  },
  {
   "cell_type": "code",
   "execution_count": 2,
   "metadata": {},
   "outputs": [],
   "source": [
    "# out img\n",
    "import cv2\n",
    "img = cv2.imread('cat.jpg')\n",
    "cv2.imshow('img', img)\n",
    "cv2.waitKey(0) # 일정 시간(ms) 동안 키 입력 대기\n",
    "cv2.destroyAllWindows()"
   ]
  },
  {
   "cell_type": "code",
   "execution_count": 5,
   "metadata": {},
   "outputs": [],
   "source": [
    "# read option\n",
    "import cv2\n",
    "img_color = cv2.imread('cat.jpg', cv2.IMREAD_COLOR)\n",
    "img_gray = cv2.imread('cat.jpg', cv2.IMREAD_GRAYSCALE)\n",
    "img_unc = cv2.imread('cat.jpg', cv2.IMREAD_UNCHANGED)\n",
    "\n",
    "cv2.imshow('img_c', img_color)\n",
    "cv2.imshow('img_g', img_gray)\n",
    "cv2.imshow('img_u', img_unc)\n",
    "\n",
    "cv2.waitKey(0)\n",
    "cv2.destroyAllWindows()"
   ]
  },
  {
   "cell_type": "code",
   "execution_count": 6,
   "metadata": {},
   "outputs": [
    {
     "data": {
      "text/plain": [
       "(2500, 2392, 3)"
      ]
     },
     "execution_count": 6,
     "metadata": {},
     "output_type": "execute_result"
    }
   ],
   "source": [
    "# img shape\n",
    "import cv2\n",
    "img = cv2.imread('cat.jpg')\n",
    "img.shape # h, w, c"
   ]
  },
  {
   "cell_type": "code",
   "execution_count": 8,
   "metadata": {},
   "outputs": [
    {
     "name": "stdout",
     "output_type": "stream",
     "text": [
      "no more frame\n"
     ]
    }
   ],
   "source": [
    "# out video\n",
    "import cv2\n",
    "\n",
    "cap = cv2.VideoCapture('video.mp4')\n",
    "\n",
    "while cap.isOpened():\n",
    "    # success, img frame\n",
    "    ret, frame = cap.read()\n",
    "    if not ret:\n",
    "        print('no more frame')\n",
    "        break\n",
    "    \n",
    "    cv2.imshow('video', frame)\n",
    "    \n",
    "    if cv2.waitKey(1) == ord('q'):\n",
    "        print('quit video')\n",
    "        break\n",
    "\n",
    "cap.release()\n",
    "cv2.destroyAllWindows()"
   ]
  },
  {
   "cell_type": "code",
   "execution_count": 12,
   "metadata": {},
   "outputs": [],
   "source": [
    "# drawing\n",
    "import cv2\n",
    "import numpy as np\n",
    "\n",
    "# H x W x C = 480 x 640 x 3\n",
    "# C: BGR, not RGB\n",
    "img = np.zeros((480, 640, 3), dtype=np.uint8)\n",
    "img[:] = (255, 255, 255) # white\n",
    "\n",
    "cv2.imshow('img', img)\n",
    "cv2.waitKey(0)\n",
    "cv2.destroyAllWindows()"
   ]
  },
  {
   "cell_type": "code",
   "execution_count": 13,
   "metadata": {},
   "outputs": [],
   "source": [
    "# 영역 색칠\n",
    "import cv2\n",
    "import numpy as np\n",
    "\n",
    "img = np.zeros((480, 640, 3), dtype=np.uint8)\n",
    "img[100:200, 200:300] = (255, 255, 255)\n",
    "\n",
    "cv2.imshow('img', img)\n",
    "cv2.waitKey(0)\n",
    "cv2.destroyAllWindows()"
   ]
  },
  {
   "cell_type": "code",
   "execution_count": 15,
   "metadata": {},
   "outputs": [],
   "source": [
    "# line\n",
    "import cv2\n",
    "import numpy as np\n",
    "\n",
    "img = np.zeros((480, 640, 3), dtype=np.uint8)\n",
    "\n",
    "COLOR = (0, 255, 255) # yellow\n",
    "THICKNESS = 3\n",
    "\n",
    "# img, pt1, pt2, color, thickness, line_type\n",
    "cv2.line(img, (50, 100), (400, 50), COLOR, THICKNESS, cv2.LINE_8)\n",
    "cv2.line(img, (50, 200), (400, 150), COLOR, THICKNESS, cv2.LINE_4)\n",
    "cv2.line(img, (50, 300), (400, 250), COLOR, THICKNESS, cv2.LINE_AA)\n",
    "\n",
    "cv2.imshow('img', img)\n",
    "cv2.waitKey(0)\n",
    "cv2.destroyAllWindows()"
   ]
  },
  {
   "cell_type": "code",
   "execution_count": 17,
   "metadata": {},
   "outputs": [],
   "source": [
    "# circle\n",
    "import cv2\n",
    "import numpy as np\n",
    "\n",
    "img = np.zeros((480, 640, 3), dtype=np.uint8)\n",
    "\n",
    "COLOR = (255, 255, 0)\n",
    "THICKNESS = 10\n",
    "RADIUS = 50\n",
    "\n",
    "# img, pt, radius, color, thickness, line_type\n",
    "cv2.circle(img, (200, 100), RADIUS, COLOR, THICKNESS, cv2.LINE_AA)\n",
    "cv2.circle(img, (400, 100), RADIUS, COLOR, cv2.FILLED, cv2.LINE_AA)\n",
    "\n",
    "cv2.imshow('img', img)\n",
    "cv2.waitKey(0)\n",
    "cv2.destroyAllWindows()"
   ]
  },
  {
   "cell_type": "code",
   "execution_count": 19,
   "metadata": {},
   "outputs": [],
   "source": [
    "# rectangle\n",
    "import cv2\n",
    "import numpy as np\n",
    "\n",
    "img = np.zeros((480, 640, 3), dtype=np.uint8)\n",
    "\n",
    "COLOR = (0, 255, 0)\n",
    "THICKNESS = 3\n",
    "\n",
    "# img, pt1, pt2, color, thickness, line_type\n",
    "cv2.rectangle(img, (100, 100), (200, 200), COLOR, THICKNESS)\n",
    "cv2.rectangle(img, (300, 100), (400, 300), COLOR, cv2.FILLED)\n",
    "\n",
    "cv2.imshow('img', img)\n",
    "cv2.waitKey(0)\n",
    "cv2.destroyAllWindows()"
   ]
  },
  {
   "cell_type": "code",
   "execution_count": 25,
   "metadata": {},
   "outputs": [],
   "source": [
    "# polygon\n",
    "import cv2\n",
    "import numpy as np\n",
    "\n",
    "img = np.zeros((480, 640, 3), dtype=np.uint8)\n",
    "\n",
    "COLOR = (0, 0, 255)\n",
    "THICKNESS = 3\n",
    "\n",
    "pts1 = np.array([[100, 100], [200, 100], [100, 200]])\n",
    "pts2 = np.array([[200, 100], [300, 100], [300, 200]])\n",
    "\n",
    "# img, list(points), closed, color, thickness, line_type\n",
    "cv2.polylines(img, [pts1, pts2], False, COLOR, THICKNESS, cv2.LINE_AA)\n",
    "\n",
    "pts3 = np.array([[[100, 300], [200, 300], [100, 400]], \n",
    "                 [[200, 300], [300, 300], [300, 400]]])\n",
    "\n",
    "# img, list(points, color, line_type\n",
    "cv2.fillPoly(img, pts3, COLOR, cv2.LINE_AA)\n",
    "\n",
    "cv2.imshow('img', img)\n",
    "cv2.waitKey(0)\n",
    "cv2.destroyAllWindows()"
   ]
  },
  {
   "cell_type": "code",
   "execution_count": 30,
   "metadata": {},
   "outputs": [],
   "source": [
    "# text\n",
    "import cv2\n",
    "import numpy as np\n",
    "\n",
    "img = np.zeros((480, 640, 3), dtype=np.uint8)\n",
    "\n",
    "COLOR = (255, 255, 255)\n",
    "THICKNESS = 3\n",
    "SCALE = 2\n",
    "\n",
    "# img, text, pt, font, scale, color, thickness\n",
    "cv2.putText(img, 'text', (20, 50), cv2.FONT_HERSHEY_SIMPLEX, SCALE, COLOR, THICKNESS)\n",
    "cv2.putText(img, 'text', (20, 150), cv2.FONT_HERSHEY_PLAIN, SCALE, COLOR, THICKNESS)\n",
    "cv2.putText(img, 'text', (20, 350), cv2.FONT_HERSHEY_TRIPLEX, SCALE, COLOR, THICKNESS)\n",
    "cv2.putText(img, 'text', (20, 450), cv2.FONT_HERSHEY_TRIPLEX | cv2.FONT_ITALIC, SCALE, COLOR, THICKNESS)\n",
    "\n",
    "cv2.imshow('img', img)\n",
    "cv2.waitKey(0)\n",
    "cv2.destroyAllWindows()"
   ]
  },
  {
   "cell_type": "code",
   "execution_count": 33,
   "metadata": {},
   "outputs": [
    {
     "name": "stdout",
     "output_type": "stream",
     "text": [
      "True\n"
     ]
    }
   ],
   "source": [
    "# save img\n",
    "import cv2\n",
    "\n",
    "img = cv2.imread('cat.jpg', cv2.IMREAD_GRAYSCALE)\n",
    "\n",
    "cv2.imshow('img', img)\n",
    "cv2.waitKey(0)\n",
    "cv2.destroyAllWindows()\n",
    "\n",
    "result = cv2.imwrite('cat_save.png', img)\n",
    "print(result)"
   ]
  },
  {
   "cell_type": "code",
   "execution_count": 34,
   "metadata": {},
   "outputs": [],
   "source": [
    "# save video\n",
    "import cv2\n",
    "\n",
    "cap = cv2.VideoCapture('video.mp4')\n",
    "\n",
    "# set codec\n",
    "fourcc = cv2.VideoWriter_fourcc(*'DIVX') # D, I, V, X\n",
    "\n",
    "# get video metadata\n",
    "width = round(cap.get(cv2.CAP_PROP_FRAME_WIDTH))\n",
    "height = round(cap.get(cv2.CAP_PROP_FRAME_HEIGHT))\n",
    "fps = cap.get(cv2.CAP_PROP_FPS) * 2 # double fps\n",
    "\n",
    "# set output: filename, codec, fps, (w, h)\n",
    "out = cv2.VideoWriter('output_fast.avi', fourcc, fps, (width, height))\n",
    "\n",
    "while cap.isOpened():\n",
    "    ret, frame = cap.read()\n",
    "    if not ret:\n",
    "        break\n",
    "    \n",
    "    out.write(frame) # write output settings (no sound)\n",
    "    cv2.imshow('video', frame)\n",
    "    if cv2.waitKey(1) == ord('q'):\n",
    "        break\n",
    "\n",
    "out.release()\n",
    "cap.release()\n",
    "cv2.destroyAllWindows()"
   ]
  },
  {
   "cell_type": "code",
   "execution_count": 35,
   "metadata": {},
   "outputs": [],
   "source": [
    "# img resize\n",
    "import cv2\n",
    "\n",
    "img = cv2.imread('cat.jpg')\n",
    "\n",
    "# img, (w, h), x ratio, y ratio\n",
    "dst1 = cv2.resize(img, (400, 500))\n",
    "dst2 = cv2.resize(img, None, fx=0.2, fy=0.2)\n",
    "\n",
    "cv2.imshow('img_resize1', dst1)\n",
    "cv2.imshow('img_resize2', dst2)\n",
    "cv2.waitKey(0)\n",
    "cv2.destroyAllWindows()"
   ]
  },
  {
   "cell_type": "code",
   "execution_count": 37,
   "metadata": {},
   "outputs": [],
   "source": [
    "# interpolation\n",
    "import cv2\n",
    "\n",
    "img = cv2.imread('cat.jpg')\n",
    "\n",
    "# img, (w, h), x ratio, y ratio, interpolation\n",
    "dst1 = cv2.resize(img, (400, 500), cv2.INTER_AREA)\n",
    "dst2 = cv2.resize(img, None, fx=0.2, fy=0.2, interpolation=cv2.INTER_CUBIC)\n",
    "\n",
    "cv2.imshow('img_resize1', dst1)\n",
    "cv2.imshow('img_resize2', dst2)\n",
    "cv2.waitKey(0)\n",
    "cv2.destroyAllWindows()"
   ]
  },
  {
   "cell_type": "code",
   "execution_count": 41,
   "metadata": {},
   "outputs": [],
   "source": [
    "# video resize\n",
    "import cv2\n",
    "\n",
    "cap = cv2.VideoCapture('video.mp4')\n",
    "\n",
    "while cap.isOpened():\n",
    "    ret, frame = cap.read()\n",
    "    if not ret:\n",
    "        break\n",
    "    \n",
    "    frame_resized = cv2.resize(frame, None, fx=0.5, fy=0.5,\n",
    "                               interpolation=cv2.INTER_CUBIC)\n",
    "    \n",
    "    cv2.imshow('video', frame_resized)\n",
    "    \n",
    "    if cv2.waitKey(0) == ord('q'):\n",
    "        break\n",
    "\n",
    "cap.release()\n",
    "cv2.destroyAllWindows()"
   ]
  },
  {
   "cell_type": "code",
   "execution_count": 48,
   "metadata": {},
   "outputs": [],
   "source": [
    "# cap\n",
    "import cv2\n",
    "img = cv2.imread('cat.jpg')\n",
    "\n",
    "crop = img[200:500, 300:900]\n",
    "\n",
    "cv2.imshow('img', img)\n",
    "cv2.imshow('crop', crop)\n",
    "cv2.waitKey(0)\n",
    "cv2.destroyAllWindows()"
   ]
  },
  {
   "cell_type": "code",
   "execution_count": 45,
   "metadata": {},
   "outputs": [],
   "source": [
    "# flip\n",
    "import cv2\n",
    "\n",
    "img = cv2.imread('cat.jpg')\n",
    "\n",
    "# img, (h:1/v:0/vh: <0)\n",
    "flip_h = cv2.flip(img, 1)\n",
    "flip_v = cv2.flip(img, 0)\n",
    "flip_vh = cv2.flip(img, -1)\n",
    "\n",
    "cv2.imshow('flip_h', flip_h)\n",
    "cv2.imshow('flip_v', flip_v)\n",
    "cv2.imshow('flip_vh', flip_vh)\n",
    "cv2.waitKey(0)\n",
    "cv2.destroyAllWindows()"
   ]
  },
  {
   "cell_type": "code",
   "execution_count": 46,
   "metadata": {},
   "outputs": [],
   "source": [
    "# rotate\n",
    "import cv2\n",
    "\n",
    "img = cv2.imread('cat.jpg')\n",
    "\n",
    "# img, (h:1/v:0/vh: <0)\n",
    "flip_h = cv2.flip(img, 1)\n",
    "flip_v = cv2.flip(img, 0)\n",
    "flip_vh = cv2.flip(img, -1)\n",
    "\n",
    "cv2.imshow('flip_h', flip_h)\n",
    "cv2.imshow('flip_v', flip_v)\n",
    "cv2.imshow('flip_vh', flip_vh)\n",
    "cv2.waitKey(0)\n",
    "cv2.destroyAllWindows()"
   ]
  },
  {
   "cell_type": "code",
   "execution_count": null,
   "metadata": {},
   "outputs": [],
   "source": []
  },
  {
   "cell_type": "code",
   "execution_count": null,
   "metadata": {},
   "outputs": [],
   "source": []
  },
  {
   "cell_type": "code",
   "execution_count": null,
   "metadata": {},
   "outputs": [],
   "source": []
  },
  {
   "cell_type": "code",
   "execution_count": null,
   "metadata": {},
   "outputs": [],
   "source": []
  },
  {
   "cell_type": "code",
   "execution_count": null,
   "metadata": {},
   "outputs": [],
   "source": []
  },
  {
   "cell_type": "code",
   "execution_count": null,
   "metadata": {},
   "outputs": [],
   "source": []
  },
  {
   "cell_type": "code",
   "execution_count": null,
   "metadata": {},
   "outputs": [],
   "source": []
  },
  {
   "cell_type": "code",
   "execution_count": null,
   "metadata": {},
   "outputs": [],
   "source": []
  },
  {
   "cell_type": "code",
   "execution_count": null,
   "metadata": {},
   "outputs": [],
   "source": []
  },
  {
   "cell_type": "code",
   "execution_count": null,
   "metadata": {},
   "outputs": [],
   "source": []
  }
 ],
 "metadata": {
  "interpreter": {
   "hash": "a162d6764aca31a842ab4ab1fd33cd48b07c17c0b9d77256d3078afd5a18d246"
  },
  "kernelspec": {
   "display_name": "Python 3.8.8 ('venv': venv)",
   "language": "python",
   "name": "python3"
  },
  "language_info": {
   "codemirror_mode": {
    "name": "ipython",
    "version": 3
   },
   "file_extension": ".py",
   "mimetype": "text/x-python",
   "name": "python",
   "nbconvert_exporter": "python",
   "pygments_lexer": "ipython3",
   "version": "3.8.8"
  },
  "orig_nbformat": 4
 },
 "nbformat": 4,
 "nbformat_minor": 2
}
