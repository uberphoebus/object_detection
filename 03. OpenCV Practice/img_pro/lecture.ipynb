{
 "cells": [
  {
   "cell_type": "code",
   "execution_count": 1,
   "metadata": {},
   "outputs": [
    {
     "data": {
      "text/plain": [
       "'4.5.5'"
      ]
     },
     "execution_count": 1,
     "metadata": {},
     "output_type": "execute_result"
    }
   ],
   "source": [
    "import cv2\n",
    "cv2.__version__"
   ]
  },
  {
   "cell_type": "code",
   "execution_count": 2,
   "metadata": {},
   "outputs": [],
   "source": [
    "# out img\n",
    "import cv2\n",
    "img = cv2.imread('cat.jpg')\n",
    "cv2.imshow('img', img)\n",
    "cv2.waitKey(0) # 일정 시간(ms) 동안 키 입력 대기\n",
    "cv2.destroyAllWindows()"
   ]
  },
  {
   "cell_type": "code",
   "execution_count": 5,
   "metadata": {},
   "outputs": [],
   "source": [
    "# read option\n",
    "import cv2\n",
    "img_color = cv2.imread('cat.jpg', cv2.IMREAD_COLOR)\n",
    "img_gray = cv2.imread('cat.jpg', cv2.IMREAD_GRAYSCALE)\n",
    "img_unc = cv2.imread('cat.jpg', cv2.IMREAD_UNCHANGED)\n",
    "\n",
    "cv2.imshow('img_c', img_color)\n",
    "cv2.imshow('img_g', img_gray)\n",
    "cv2.imshow('img_u', img_unc)\n",
    "\n",
    "cv2.waitKey(0)\n",
    "cv2.destroyAllWindows()"
   ]
  },
  {
   "cell_type": "code",
   "execution_count": 6,
   "metadata": {},
   "outputs": [
    {
     "data": {
      "text/plain": [
       "(2500, 2392, 3)"
      ]
     },
     "execution_count": 6,
     "metadata": {},
     "output_type": "execute_result"
    }
   ],
   "source": [
    "# img shape\n",
    "import cv2\n",
    "img = cv2.imread('cat.jpg')\n",
    "img.shape # h, w, c"
   ]
  },
  {
   "cell_type": "code",
   "execution_count": 8,
   "metadata": {},
   "outputs": [
    {
     "name": "stdout",
     "output_type": "stream",
     "text": [
      "no more frame\n"
     ]
    }
   ],
   "source": [
    "# out video\n",
    "import cv2\n",
    "\n",
    "cap = cv2.VideoCapture('video.mp4')\n",
    "\n",
    "while cap.isOpened():\n",
    "    # success, img frame\n",
    "    ret, frame = cap.read()\n",
    "    if not ret:\n",
    "        print('no more frame')\n",
    "        break\n",
    "    \n",
    "    cv2.imshow('video', frame)\n",
    "    \n",
    "    if cv2.waitKey(1) == ord('q'):\n",
    "        print('quit video')\n",
    "        break\n",
    "\n",
    "cap.release()\n",
    "cv2.destroyAllWindows()"
   ]
  },
  {
   "cell_type": "code",
   "execution_count": 12,
   "metadata": {},
   "outputs": [],
   "source": [
    "# drawing\n",
    "import cv2\n",
    "import numpy as np\n",
    "\n",
    "# H x W x C = 480 x 640 x 3\n",
    "# C: BGR, not RGB\n",
    "img = np.zeros((480, 640, 3), dtype=np.uint8)\n",
    "img[:] = (255, 255, 255) # white\n",
    "\n",
    "cv2.imshow('img', img)\n",
    "cv2.waitKey(0)\n",
    "cv2.destroyAllWindows()"
   ]
  },
  {
   "cell_type": "code",
   "execution_count": 13,
   "metadata": {},
   "outputs": [],
   "source": [
    "# 영역 색칠\n",
    "import cv2\n",
    "import numpy as np\n",
    "\n",
    "img = np.zeros((480, 640, 3), dtype=np.uint8)\n",
    "img[100:200, 200:300] = (255, 255, 255)\n",
    "\n",
    "cv2.imshow('img', img)\n",
    "cv2.waitKey(0)\n",
    "cv2.destroyAllWindows()"
   ]
  },
  {
   "cell_type": "code",
   "execution_count": 15,
   "metadata": {},
   "outputs": [],
   "source": [
    "# line\n",
    "import cv2\n",
    "import numpy as np\n",
    "\n",
    "img = np.zeros((480, 640, 3), dtype=np.uint8)\n",
    "\n",
    "COLOR = (0, 255, 255) # yellow\n",
    "THICKNESS = 3\n",
    "\n",
    "# img, pt1, pt2, color, thickness, line_type\n",
    "cv2.line(img, (50, 100), (400, 50), COLOR, THICKNESS, cv2.LINE_8)\n",
    "cv2.line(img, (50, 200), (400, 150), COLOR, THICKNESS, cv2.LINE_4)\n",
    "cv2.line(img, (50, 300), (400, 250), COLOR, THICKNESS, cv2.LINE_AA)\n",
    "\n",
    "cv2.imshow('img', img)\n",
    "cv2.waitKey(0)\n",
    "cv2.destroyAllWindows()"
   ]
  },
  {
   "cell_type": "code",
   "execution_count": 17,
   "metadata": {},
   "outputs": [],
   "source": [
    "# circle\n",
    "import cv2\n",
    "import numpy as np\n",
    "\n",
    "img = np.zeros((480, 640, 3), dtype=np.uint8)\n",
    "\n",
    "COLOR = (255, 255, 0)\n",
    "THICKNESS = 10\n",
    "RADIUS = 50\n",
    "\n",
    "# img, pt, radius, color, thickness, line_type\n",
    "cv2.circle(img, (200, 100), RADIUS, COLOR, THICKNESS, cv2.LINE_AA)\n",
    "cv2.circle(img, (400, 100), RADIUS, COLOR, cv2.FILLED, cv2.LINE_AA)\n",
    "\n",
    "cv2.imshow('img', img)\n",
    "cv2.waitKey(0)\n",
    "cv2.destroyAllWindows()"
   ]
  },
  {
   "cell_type": "code",
   "execution_count": 19,
   "metadata": {},
   "outputs": [],
   "source": [
    "# rectangle\n",
    "import cv2\n",
    "import numpy as np\n",
    "\n",
    "img = np.zeros((480, 640, 3), dtype=np.uint8)\n",
    "\n",
    "COLOR = (0, 255, 0)\n",
    "THICKNESS = 3\n",
    "\n",
    "# img, pt1, pt2, color, thickness, line_type\n",
    "cv2.rectangle(img, (100, 100), (200, 200), COLOR, THICKNESS)\n",
    "cv2.rectangle(img, (300, 100), (400, 300), COLOR, cv2.FILLED)\n",
    "\n",
    "cv2.imshow('img', img)\n",
    "cv2.waitKey(0)\n",
    "cv2.destroyAllWindows()"
   ]
  },
  {
   "cell_type": "code",
   "execution_count": 25,
   "metadata": {},
   "outputs": [],
   "source": [
    "# polygon\n",
    "import cv2\n",
    "import numpy as np\n",
    "\n",
    "img = np.zeros((480, 640, 3), dtype=np.uint8)\n",
    "\n",
    "COLOR = (0, 0, 255)\n",
    "THICKNESS = 3\n",
    "\n",
    "pts1 = np.array([[100, 100], [200, 100], [100, 200]])\n",
    "pts2 = np.array([[200, 100], [300, 100], [300, 200]])\n",
    "\n",
    "# img, list(points), closed, color, thickness, line_type\n",
    "cv2.polylines(img, [pts1, pts2], False, COLOR, THICKNESS, cv2.LINE_AA)\n",
    "\n",
    "pts3 = np.array([[[100, 300], [200, 300], [100, 400]], \n",
    "                 [[200, 300], [300, 300], [300, 400]]])\n",
    "\n",
    "# img, list(points, color, line_type\n",
    "cv2.fillPoly(img, pts3, COLOR, cv2.LINE_AA)\n",
    "\n",
    "cv2.imshow('img', img)\n",
    "cv2.waitKey(0)\n",
    "cv2.destroyAllWindows()"
   ]
  },
  {
   "cell_type": "code",
   "execution_count": 30,
   "metadata": {},
   "outputs": [],
   "source": [
    "# text\n",
    "import cv2\n",
    "import numpy as np\n",
    "\n",
    "img = np.zeros((480, 640, 3), dtype=np.uint8)\n",
    "\n",
    "COLOR = (255, 255, 255)\n",
    "THICKNESS = 3\n",
    "SCALE = 2\n",
    "\n",
    "# img, text, pt, font, scale, color, thickness\n",
    "cv2.putText(img, 'text', (20, 50), cv2.FONT_HERSHEY_SIMPLEX, SCALE, COLOR, THICKNESS)\n",
    "cv2.putText(img, 'text', (20, 150), cv2.FONT_HERSHEY_PLAIN, SCALE, COLOR, THICKNESS)\n",
    "cv2.putText(img, 'text', (20, 350), cv2.FONT_HERSHEY_TRIPLEX, SCALE, COLOR, THICKNESS)\n",
    "cv2.putText(img, 'text', (20, 450), cv2.FONT_HERSHEY_TRIPLEX | cv2.FONT_ITALIC, SCALE, COLOR, THICKNESS)\n",
    "\n",
    "cv2.imshow('img', img)\n",
    "cv2.waitKey(0)\n",
    "cv2.destroyAllWindows()"
   ]
  },
  {
   "cell_type": "code",
   "execution_count": 33,
   "metadata": {},
   "outputs": [
    {
     "name": "stdout",
     "output_type": "stream",
     "text": [
      "True\n"
     ]
    }
   ],
   "source": [
    "# save img\n",
    "import cv2\n",
    "\n",
    "img = cv2.imread('cat.jpg', cv2.IMREAD_GRAYSCALE)\n",
    "\n",
    "cv2.imshow('img', img)\n",
    "cv2.waitKey(0)\n",
    "cv2.destroyAllWindows()\n",
    "\n",
    "result = cv2.imwrite('cat_save.png', img)\n",
    "print(result)"
   ]
  },
  {
   "cell_type": "code",
   "execution_count": 34,
   "metadata": {},
   "outputs": [],
   "source": [
    "# save video\n",
    "import cv2\n",
    "\n",
    "cap = cv2.VideoCapture('video.mp4')\n",
    "\n",
    "# set codec\n",
    "fourcc = cv2.VideoWriter_fourcc(*'DIVX') # D, I, V, X\n",
    "\n",
    "# get video metadata\n",
    "width = round(cap.get(cv2.CAP_PROP_FRAME_WIDTH))\n",
    "height = round(cap.get(cv2.CAP_PROP_FRAME_HEIGHT))\n",
    "fps = cap.get(cv2.CAP_PROP_FPS) * 2 # double fps\n",
    "\n",
    "# set output: filename, codec, fps, (w, h)\n",
    "out = cv2.VideoWriter('output_fast.avi', fourcc, fps, (width, height))\n",
    "\n",
    "while cap.isOpened():\n",
    "    ret, frame = cap.read()\n",
    "    if not ret:\n",
    "        break\n",
    "    \n",
    "    out.write(frame) # write output settings (no sound)\n",
    "    cv2.imshow('video', frame)\n",
    "    if cv2.waitKey(1) == ord('q'):\n",
    "        break\n",
    "\n",
    "out.release()\n",
    "cap.release()\n",
    "cv2.destroyAllWindows()"
   ]
  },
  {
   "cell_type": "code",
   "execution_count": 35,
   "metadata": {},
   "outputs": [],
   "source": [
    "# img resize\n",
    "import cv2\n",
    "\n",
    "img = cv2.imread('cat.jpg')\n",
    "\n",
    "# img, (w, h), x ratio, y ratio\n",
    "dst1 = cv2.resize(img, (400, 500))\n",
    "dst2 = cv2.resize(img, None, fx=0.2, fy=0.2)\n",
    "\n",
    "cv2.imshow('img_resize1', dst1)\n",
    "cv2.imshow('img_resize2', dst2)\n",
    "cv2.waitKey(0)\n",
    "cv2.destroyAllWindows()"
   ]
  },
  {
   "cell_type": "code",
   "execution_count": 37,
   "metadata": {},
   "outputs": [],
   "source": [
    "# interpolation\n",
    "import cv2\n",
    "\n",
    "img = cv2.imread('cat.jpg')\n",
    "\n",
    "# img, (w, h), x ratio, y ratio, interpolation\n",
    "dst1 = cv2.resize(img, (400, 500), cv2.INTER_AREA)\n",
    "dst2 = cv2.resize(img, None, fx=0.2, fy=0.2, interpolation=cv2.INTER_CUBIC)\n",
    "\n",
    "cv2.imshow('img_resize1', dst1)\n",
    "cv2.imshow('img_resize2', dst2)\n",
    "cv2.waitKey(0)\n",
    "cv2.destroyAllWindows()"
   ]
  },
  {
   "cell_type": "code",
   "execution_count": 41,
   "metadata": {},
   "outputs": [],
   "source": [
    "# video resize\n",
    "import cv2\n",
    "\n",
    "cap = cv2.VideoCapture('video.mp4')\n",
    "\n",
    "while cap.isOpened():\n",
    "    ret, frame = cap.read()\n",
    "    if not ret:\n",
    "        break\n",
    "    \n",
    "    frame_resized = cv2.resize(frame, None, fx=0.5, fy=0.5,\n",
    "                               interpolation=cv2.INTER_CUBIC)\n",
    "    \n",
    "    cv2.imshow('video', frame_resized)\n",
    "    \n",
    "    if cv2.waitKey(0) == ord('q'):\n",
    "        break\n",
    "\n",
    "cap.release()\n",
    "cv2.destroyAllWindows()"
   ]
  },
  {
   "cell_type": "code",
   "execution_count": 48,
   "metadata": {},
   "outputs": [],
   "source": [
    "# cap\n",
    "import cv2\n",
    "img = cv2.imread('cat.jpg')\n",
    "\n",
    "crop = img[200:500, 300:900]\n",
    "\n",
    "cv2.imshow('img', img)\n",
    "cv2.imshow('crop', crop)\n",
    "cv2.waitKey(0)\n",
    "cv2.destroyAllWindows()"
   ]
  },
  {
   "cell_type": "code",
   "execution_count": 45,
   "metadata": {},
   "outputs": [],
   "source": [
    "# flip\n",
    "import cv2\n",
    "\n",
    "img = cv2.imread('cat.jpg')\n",
    "\n",
    "# img, (h:1/v:0/vh: <0)\n",
    "flip_h = cv2.flip(img, 1)\n",
    "flip_v = cv2.flip(img, 0)\n",
    "flip_vh = cv2.flip(img, -1)\n",
    "\n",
    "cv2.imshow('flip_h', flip_h)\n",
    "cv2.imshow('flip_v', flip_v)\n",
    "cv2.imshow('flip_vh', flip_vh)\n",
    "cv2.waitKey(0)\n",
    "cv2.destroyAllWindows()"
   ]
  },
  {
   "cell_type": "code",
   "execution_count": 1,
   "metadata": {},
   "outputs": [],
   "source": [
    "# rotate\n",
    "import cv2\n",
    "\n",
    "img = cv2.imread('cat.jpg')\n",
    "\n",
    "rotate_90 = cv2.rotate(img, cv2.ROTATE_90_CLOCKWISE)\n",
    "rotate_180 = cv2.rotate(img, cv2.ROTATE_180)\n",
    "rotate_270 = cv2.rotate(img, cv2.ROTATE_90_COUNTERCLOCKWISE)\n",
    "\n",
    "cv2.imshow('rotate_90', rotate_90)\n",
    "cv2.imshow('rotate_180', rotate_180)\n",
    "cv2.imshow('rotate_270  ', rotate_270)\n",
    "cv2.waitKey(0)\n",
    "cv2.destroyAllWindows()"
   ]
  },
  {
   "cell_type": "code",
   "execution_count": 3,
   "metadata": {},
   "outputs": [],
   "source": [
    "# cvtcolor\n",
    "import cv2\n",
    "\n",
    "img = cv2.imread('cat.jpg')\n",
    "\n",
    "dst = cv2.cvtColor(img, cv2.COLOR_BGR2GRAY)\n",
    "\n",
    "cv2.imshow('dst', dst)\n",
    "cv2.waitKey(0)\n",
    "cv2.destroyAllWindows()"
   ]
  },
  {
   "cell_type": "code",
   "execution_count": 5,
   "metadata": {},
   "outputs": [],
   "source": [
    "# blur kernel\n",
    "import cv2\n",
    "\n",
    "img = cv2.imread('cat.jpg')\n",
    "\n",
    "# kernel size (3, 3), (5, 5), (7, 7)\n",
    "\n",
    "# img, kernel size, sigmaX(x stdev)\n",
    "kernel_3 = cv2.GaussianBlur(img, (3, 3), 0)\n",
    "kernel_5 = cv2.GaussianBlur(img, (5, 5), 0)\n",
    "kernel_7 = cv2.GaussianBlur(img, (7, 7), 0)\n",
    "\n",
    "cv2.imshow('kernel_3', kernel_3)\n",
    "cv2.imshow('kernel_5', kernel_5)\n",
    "cv2.imshow('kernel_7', kernel_7)\n",
    "cv2.waitKey(0)\n",
    "cv2.destroyAllWindows()"
   ]
  },
  {
   "cell_type": "code",
   "execution_count": 6,
   "metadata": {},
   "outputs": [],
   "source": [
    "# blur sigma\n",
    "import cv2\n",
    "\n",
    "img = cv2.imread('cat.jpg')\n",
    "\n",
    "# kernel size (3, 3), (5, 5), (7, 7)\n",
    "\n",
    "# img, kernel size, sigma\n",
    "sigma_1 = cv2.GaussianBlur(img, (0, 0), 1)\n",
    "sigma_2 = cv2.GaussianBlur(img, (0, 0), 2)\n",
    "sigma_3 = cv2.GaussianBlur(img, (0, 0), 3)\n",
    "\n",
    "cv2.imshow('sigma_1', sigma_1)\n",
    "cv2.imshow('sigma_2', sigma_2)\n",
    "cv2.imshow('sigma_3', sigma_3)\n",
    "cv2.waitKey(0)\n",
    "cv2.destroyAllWindows()"
   ]
  },
  {
   "cell_type": "code",
   "execution_count": 10,
   "metadata": {},
   "outputs": [],
   "source": [
    "# perspective transform\n",
    "import cv2\n",
    "import numpy as np\n",
    "\n",
    "img = cv2.imread('newspaper.jpg')\n",
    "w, h = 640, 240\n",
    "src = np.array([[511, 352], [1008, 345], [1122, 584], [455, 594]], dtype=np.float32)\n",
    "dst = np.array([[0, 0], [w, 0], [w, h], [0, h]], dtype=np.float32)\n",
    "\n",
    "# input pt(list), output pt(list): l-top, r-top, r-bottom, l-bottom\n",
    "matrix = cv2.getPerspectiveTransform(src, dst)\n",
    "# img, transform mat, (W, H)\n",
    "result = cv2.warpPerspective(img, matrix, (w, h))\n",
    "\n",
    "cv2.imshow('res', result)\n",
    "cv2.waitKey(0)\n",
    "cv2.destroyAllWindows()"
   ]
  },
  {
   "cell_type": "code",
   "execution_count": null,
   "metadata": {},
   "outputs": [],
   "source": [
    "# rotate perspective transform\n",
    "import cv2\n",
    "import numpy as np\n",
    "\n",
    "img = cv2.imread('poker.jpg')\n",
    "w, h = 530, 710\n",
    "src = np.array([[702, 143], [1133, 414], [726, 1007], [276, 700]], dtype=np.float32)\n",
    "dst = np.array([[0, 0], [w, 0], [w, h], [0, h]], dtype=np.float32)\n",
    "\n",
    "# input pt(list), output pt(list): l-top, r-top, r-bottom, l-bottom\n",
    "matrix = cv2.getPerspectiveTransform(src, dst)\n",
    "# img, transform mat, (W, H)\n",
    "result = cv2.warpPerspective(img, matrix, (w, h))\n",
    "\n",
    "cv2.imshow('res', result)\n",
    "cv2.waitKey(0)\n",
    "cv2.destroyAllWindows()"
   ]
  },
  {
   "cell_type": "code",
   "execution_count": 11,
   "metadata": {},
   "outputs": [],
   "source": [
    "# binarize & trackbar\n",
    "import cv2\n",
    "\n",
    "def empty(pos):\n",
    "    pass\n",
    "\n",
    "img = cv2.imread('./book.jpg', cv2.IMREAD_GRAYSCALE)\n",
    "\n",
    "# img, threshold, output value, cv2.THRESH_BIANRY\n",
    "ret, binary = cv2.threshold(img, 127, 255, cv2.THRESH_BINARY)\n",
    "\n",
    "# trackbar\n",
    "name = 'Trackbar'\n",
    "cv2.namedWindow(name)\n",
    "# name, window, default, max, event func\n",
    "cv2.createTrackbar('threshold', name, 127, 255, empty)\n",
    "\n",
    "while True:\n",
    "    thresh = cv2.getTrackbarPos('threshold', name)\n",
    "    ret, binary = cv2.threshold(img, 127, 255, cv2.THRESH_BINARY)\n",
    "    if not ret:\n",
    "        break\n",
    "    \n",
    "    cv2.imshow(name, binary)\n",
    "    \n",
    "    if cv2.waitKey(0):\n",
    "        break\n",
    "\n",
    "cv2.destroyAllWindows()"
   ]
  },
  {
   "cell_type": "code",
   "execution_count": 10,
   "metadata": {},
   "outputs": [],
   "source": [
    "# adaptive\n",
    "import cv2\n",
    "\n",
    "def empty(pos):\n",
    "    pass\n",
    "\n",
    "img = cv2.imread('./book.jpg', cv2.IMREAD_GRAYSCALE)\n",
    "\n",
    "name = 'Trackbar'\n",
    "cv2.namedWindow(name)\n",
    "\n",
    "cv2.createTrackbar('block_size', name, 25, 100, empty)\n",
    "cv2.createTrackbar('c', name, 3, 10, empty)\n",
    "\n",
    "while True:\n",
    "    block_size = cv2.getTrackbarPos('block_size', name)\n",
    "    c = cv2.getTrackbarPos('c', name)\n",
    "    \n",
    "    block_size = 3 if block_size <= 1 else block_size\n",
    "    block_size += 1 if block_size % 2 == 0 else 0\n",
    "    \n",
    "    binary = cv2.adaptiveThreshold(img, 255, \n",
    "                                   cv2.ADAPTIVE_THRESH_MEAN_C,\n",
    "                                   cv2.THRESH_BINARY,\n",
    "                                   block_size, c)\n",
    "    \n",
    "    cv2.imshow(name, binary)\n",
    "    if cv2.waitKey(1) == ord('q'):\n",
    "        break\n",
    "\n",
    "cv2.destroyAllWindows()"
   ]
  },
  {
   "cell_type": "code",
   "execution_count": 17,
   "metadata": {},
   "outputs": [
    {
     "name": "stdout",
     "output_type": "stream",
     "text": [
      "otsu threshold: 100.0\n"
     ]
    }
   ],
   "source": [
    "# otsu: bimodal image\n",
    "import cv2\n",
    "\n",
    "img = cv2.imread('./book.jpg', cv2.IMREAD_GRAYSCALE)\n",
    "\n",
    "ret, otsu = cv2.threshold(img, -1, 255, cv2.THRESH_BINARY | cv2.THRESH_OTSU)\n",
    "print('otsu threshold:', ret)\n",
    "\n",
    "cv2.imshow('otsu', otsu)\n",
    "cv2.waitKey(0)\n",
    "cv2.destroyAllWindows()"
   ]
  },
  {
   "cell_type": "code",
   "execution_count": 22,
   "metadata": {},
   "outputs": [],
   "source": [
    "# canny edge detection\n",
    "import cv2\n",
    "\n",
    "def empty(pos): pass\n",
    "\n",
    "img = cv2.imread('./snowman.png')\n",
    "\n",
    "name = 'Trackbar'\n",
    "cv2.namedWindow(name)\n",
    "cv2.createTrackbar('threshold1', name, 0, 255, empty)\n",
    "cv2.createTrackbar('threshold2', name, 0, 255, empty)\n",
    "\n",
    "while True:\n",
    "    threshold1 = cv2.getTrackbarPos('threshold1', name)\n",
    "    threshold2 = cv2.getTrackbarPos('threshold2', name)\n",
    "    \n",
    "    # img, min thres, max thres\n",
    "    canny = cv2.Canny(img, threshold1, threshold2)\n",
    "    \n",
    "    cv2.imshow(name, canny)\n",
    "    \n",
    "    if cv2.waitKey(1) == ord('q'):\n",
    "        break\n",
    "\n",
    "cv2.destroyAllWindows()"
   ]
  },
  {
   "cell_type": "code",
   "execution_count": 25,
   "metadata": {},
   "outputs": [],
   "source": [
    "# contour detection\n",
    "import cv2\n",
    "\n",
    "img = cv2.imread('./card.png')\n",
    "target_img = img.copy()\n",
    "\n",
    "gray = cv2.cvtColor(img, cv2.COLOR_BGR2GRAY)\n",
    "ret, otsu = cv2.threshold(gray, -1, 255, cv2.THRESH_BINARY | cv2.THRESH_OTSU)\n",
    "\n",
    "# contours info, hierarchy: img, mode, method\n",
    "contours, hierarchy = cv2.findContours(otsu, cv2.RETR_LIST, cv2.CHAIN_APPROX_NONE)\n",
    "\n",
    "# draw: img, contours info, contours idx, color, thickness\n",
    "COLOR = (0, 200, 0)\n",
    "cv2.drawContours(target_img, contours, -1, COLOR, 2)\n",
    "\n",
    "cv2.imshow('img', img)\n",
    "cv2.imshow('gray', gray)\n",
    "cv2.imshow('otsu', otsu)\n",
    "cv2.imshow('target_img', target_img)\n",
    "cv2.waitKey(0)\n",
    "cv2.destroyAllWindows()"
   ]
  },
  {
   "cell_type": "code",
   "execution_count": 26,
   "metadata": {},
   "outputs": [],
   "source": [
    "# boundingRect\n",
    "import cv2\n",
    "\n",
    "img = cv2.imread('./card.png')\n",
    "target_img = img.copy()\n",
    "\n",
    "gray = cv2.cvtColor(img, cv2.COLOR_BGR2GRAY)\n",
    "ret, otsu = cv2.threshold(gray, -1, 255, cv2.THRESH_BINARY | cv2.THRESH_OTSU)\n",
    "\n",
    "# contours info, hierarchy: img, mode, method\n",
    "contours, hierarchy = cv2.findContours(otsu, cv2.RETR_LIST, cv2.CHAIN_APPROX_NONE)\n",
    "\n",
    "# draw: img, contours info, contours idx, color, thickness\n",
    "COLOR = (0, 200, 0)\n",
    "for cnt in contours:\n",
    "    x, y, w, h = cv2.boundingRect(cnt)\n",
    "    cv2.rectangle(target_img, \n",
    "                  (x, y), # left top\n",
    "                  (x + w, y + h), # right bottom\n",
    "                  COLOR, 2)\n",
    "\n",
    "cv2.imshow('target_img', target_img)\n",
    "cv2.waitKey(0)\n",
    "cv2.destroyAllWindows()"
   ]
  },
  {
   "cell_type": "code",
   "execution_count": 28,
   "metadata": {},
   "outputs": [],
   "source": [
    "# contour area\n",
    "import cv2\n",
    "\n",
    "img = cv2.imread('./card.png')\n",
    "target_img = img.copy()\n",
    "\n",
    "gray = cv2.cvtColor(img, cv2.COLOR_BGR2GRAY)\n",
    "ret, otsu = cv2.threshold(gray, -1, 255, cv2.THRESH_BINARY | cv2.THRESH_OTSU)\n",
    "\n",
    "# contours info, hierarchy: img, mode, method\n",
    "contours, hierarchy = cv2.findContours(otsu, cv2.RETR_LIST, cv2.CHAIN_APPROX_NONE)\n",
    "\n",
    "# draw: img, contours info, contours idx, color, thickness\n",
    "COLOR = (0, 200, 0)\n",
    "for cnt in contours:\n",
    "    if cv2.contourArea(cnt) > 25000:\n",
    "            x, y, w, h = cv2.boundingRect(cnt)\n",
    "            cv2.rectangle(target_img, \n",
    "                          (x, y), # left top\n",
    "                          (x + w, y + h), # right bottom\n",
    "                          COLOR, 2)\n",
    "\n",
    "\n",
    "cv2.imshow('target_img', target_img)\n",
    "cv2.waitKey(0)\n",
    "cv2.destroyAllWindows()"
   ]
  }
 ],
 "metadata": {
  "interpreter": {
   "hash": "a162d6764aca31a842ab4ab1fd33cd48b07c17c0b9d77256d3078afd5a18d246"
  },
  "kernelspec": {
   "display_name": "Python 3.8.8 ('venv': venv)",
   "language": "python",
   "name": "python3"
  },
  "language_info": {
   "codemirror_mode": {
    "name": "ipython",
    "version": 3
   },
   "file_extension": ".py",
   "mimetype": "text/x-python",
   "name": "python",
   "nbconvert_exporter": "python",
   "pygments_lexer": "ipython3",
   "version": "3.8.8"
  },
  "orig_nbformat": 4
 },
 "nbformat": 4,
 "nbformat_minor": 2
}
