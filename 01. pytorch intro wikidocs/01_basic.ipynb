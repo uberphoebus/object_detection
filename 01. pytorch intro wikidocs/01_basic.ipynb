{
 "cells": [
  {
   "cell_type": "markdown",
   "metadata": {},
   "source": [
    "# 패키지 기본구성"
   ]
  },
  {
   "cell_type": "code",
   "execution_count": 1,
   "metadata": {},
   "outputs": [],
   "source": [
    "import torch # 메인 네임스페이스, numpy와 유사\n",
    "import torch.autograd # 자동미분 함수(Function)\n",
    "import torch.nn # 신경망 데이터 구조, 활성화함수, 손실함수\n",
    "import torch.optim # 파라미터 최적화 알고리즘\n",
    "import torch.utils.data # SGD 반복연산 미니 배치 유틸리티\n",
    "import torch.onnx # ONNX(open neural netword exchange) 포맷 모델 익스포트"
   ]
  }
 ],
 "metadata": {
  "interpreter": {
   "hash": "76888c4a1af33f53bb52de03cc72a37cdcfc80966b4bb342e552f029c3bcc4e2"
  },
  "kernelspec": {
   "display_name": "Python 3.8.8 ('venv': venv)",
   "language": "python",
   "name": "python3"
  },
  "language_info": {
   "codemirror_mode": {
    "name": "ipython",
    "version": 3
   },
   "file_extension": ".py",
   "mimetype": "text/x-python",
   "name": "python",
   "nbconvert_exporter": "python",
   "pygments_lexer": "ipython3",
   "version": "3.8.8"
  },
  "orig_nbformat": 4
 },
 "nbformat": 4,
 "nbformat_minor": 2
}
