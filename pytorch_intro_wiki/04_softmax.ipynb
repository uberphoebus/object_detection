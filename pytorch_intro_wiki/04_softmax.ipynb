{
 "cells": [
  {
   "cell_type": "markdown",
   "metadata": {},
   "source": [
    "# 소프트맥스 회귀의 비용함수 구현"
   ]
  },
  {
   "cell_type": "code",
   "execution_count": 1,
   "metadata": {},
   "outputs": [
    {
     "data": {
      "text/plain": [
       "<torch._C.Generator at 0x2c6553ed690>"
      ]
     },
     "execution_count": 1,
     "metadata": {},
     "output_type": "execute_result"
    }
   ],
   "source": [
    "import torch\n",
    "import torch.nn as nn\n",
    "import torch.nn.functional as F\n",
    "import torch.optim as optim\n",
    "\n",
    "torch.manual_seed(1)"
   ]
  },
  {
   "cell_type": "markdown",
   "metadata": {},
   "source": [
    "## 로우-레벨"
   ]
  },
  {
   "cell_type": "code",
   "execution_count": 2,
   "metadata": {},
   "outputs": [
    {
     "data": {
      "text/plain": [
       "(tensor([0.0900, 0.2447, 0.6652]), tensor(1.))"
      ]
     },
     "execution_count": 2,
     "metadata": {},
     "output_type": "execute_result"
    }
   ],
   "source": [
    "z = torch.FloatTensor([1, 2, 3])\n",
    "h = F.softmax(z, dim=0)\n",
    "h, h.sum() # 소프트맥스 함수의 출력합은 1"
   ]
  },
  {
   "cell_type": "code",
   "execution_count": 3,
   "metadata": {},
   "outputs": [
    {
     "data": {
      "text/plain": [
       "(tensor([[0.2645, 0.1639, 0.1855, 0.2585, 0.1277],\n",
       "         [0.2430, 0.1624, 0.2322, 0.1930, 0.1694],\n",
       "         [0.2226, 0.1986, 0.2326, 0.1594, 0.1868]], grad_fn=<SoftmaxBackward0>),\n",
       " tensor([1.0000, 1.0000, 1.0000], grad_fn=<SumBackward1>))"
      ]
     },
     "execution_count": 3,
     "metadata": {},
     "output_type": "execute_result"
    }
   ],
   "source": [
    "z = torch.rand(3, 5, requires_grad=True)\n",
    "h = F.softmax(z, dim=1)\n",
    "h, h.sum(axis=1) # 행별 원소합 1"
   ]
  },
  {
   "cell_type": "code",
   "execution_count": 4,
   "metadata": {},
   "outputs": [
    {
     "data": {
      "text/plain": [
       "(tensor([0, 2, 1]),\n",
       " tensor([[0],\n",
       "         [2],\n",
       "         [1]]))"
      ]
     },
     "execution_count": 4,
     "metadata": {},
     "output_type": "execute_result"
    }
   ],
   "source": [
    "y = torch.randint(5, (3, )).long()\n",
    "y, y.unsqueeze(1) # (3,) -> (3, 1)"
   ]
  },
  {
   "cell_type": "code",
   "execution_count": 5,
   "metadata": {},
   "outputs": [
    {
     "data": {
      "text/plain": [
       "tensor([[1., 0., 0., 0., 0.],\n",
       "        [0., 0., 1., 0., 0.],\n",
       "        [0., 1., 0., 0., 0.]])"
      ]
     },
     "execution_count": 5,
     "metadata": {},
     "output_type": "execute_result"
    }
   ],
   "source": [
    "y_one_hot = torch.zeros_like(h) # 3x5 텐서생성\n",
    "y_one_hot.scatter_(1, y.unsqueeze(1), 1) # dim, 위치, 넣을 숫자"
   ]
  },
  {
   "cell_type": "code",
   "execution_count": 6,
   "metadata": {},
   "outputs": [
    {
     "data": {
      "text/plain": [
       "tensor(1.4689, grad_fn=<MeanBackward0>)"
      ]
     },
     "execution_count": 6,
     "metadata": {},
     "output_type": "execute_result"
    }
   ],
   "source": [
    "cost = (y_one_hot * -torch.log(h)).sum(dim=1).mean()\n",
    "cost"
   ]
  },
  {
   "cell_type": "markdown",
   "metadata": {},
   "source": [
    "## 하이-레벨"
   ]
  },
  {
   "cell_type": "markdown",
   "metadata": {},
   "source": [
    "### 1. F.softmax() + torch.log() = F.log_softmax()"
   ]
  },
  {
   "cell_type": "code",
   "execution_count": 7,
   "metadata": {},
   "outputs": [
    {
     "data": {
      "text/plain": [
       "tensor([[-1.3301, -1.8084, -1.6846, -1.3530, -2.0584],\n",
       "        [-1.4147, -1.8174, -1.4602, -1.6450, -1.7758],\n",
       "        [-1.5025, -1.6165, -1.4586, -1.8360, -1.6776]], grad_fn=<LogBackward0>)"
      ]
     },
     "execution_count": 7,
     "metadata": {},
     "output_type": "execute_result"
    }
   ],
   "source": [
    "torch.log(F.softmax(z, dim=1))"
   ]
  },
  {
   "cell_type": "code",
   "execution_count": 8,
   "metadata": {},
   "outputs": [
    {
     "data": {
      "text/plain": [
       "tensor([[-1.3301, -1.8084, -1.6846, -1.3530, -2.0584],\n",
       "        [-1.4147, -1.8174, -1.4602, -1.6450, -1.7758],\n",
       "        [-1.5025, -1.6165, -1.4586, -1.8360, -1.6776]],\n",
       "       grad_fn=<LogSoftmaxBackward0>)"
      ]
     },
     "execution_count": 8,
     "metadata": {},
     "output_type": "execute_result"
    }
   ],
   "source": [
    "F.log_softmax(z, dim=1)"
   ]
  },
  {
   "cell_type": "markdown",
   "metadata": {},
   "source": [
    "### 2. F.log_softmax() + F.nll_loss = F.cross_entropy()"
   ]
  },
  {
   "cell_type": "code",
   "execution_count": 9,
   "metadata": {},
   "outputs": [
    {
     "data": {
      "text/plain": [
       "tensor(1.4689, grad_fn=<MeanBackward0>)"
      ]
     },
     "execution_count": 9,
     "metadata": {},
     "output_type": "execute_result"
    }
   ],
   "source": [
    "(y_one_hot * -torch.log(h)).sum(dim=1).mean()\n"
   ]
  },
  {
   "cell_type": "code",
   "execution_count": 10,
   "metadata": {},
   "outputs": [
    {
     "data": {
      "text/plain": [
       "tensor(1.4689, grad_fn=<MeanBackward0>)"
      ]
     },
     "execution_count": 10,
     "metadata": {},
     "output_type": "execute_result"
    }
   ],
   "source": [
    "(y_one_hot * -F.log_softmax(z, dim=1)).sum(dim=1).mean()"
   ]
  },
  {
   "cell_type": "code",
   "execution_count": 11,
   "metadata": {},
   "outputs": [
    {
     "data": {
      "text/plain": [
       "tensor(1.4689, grad_fn=<NllLossBackward0>)"
      ]
     },
     "execution_count": 11,
     "metadata": {},
     "output_type": "execute_result"
    }
   ],
   "source": [
    "F.nll_loss(F.log_softmax(z, dim=1), y) # 원핫벡터 없이 실제값 입력"
   ]
  },
  {
   "cell_type": "code",
   "execution_count": 12,
   "metadata": {},
   "outputs": [
    {
     "data": {
      "text/plain": [
       "tensor(1.4689, grad_fn=<NllLossBackward0>)"
      ]
     },
     "execution_count": 12,
     "metadata": {},
     "output_type": "execute_result"
    }
   ],
   "source": [
    "F.cross_entropy(z, y)"
   ]
  },
  {
   "cell_type": "markdown",
   "metadata": {},
   "source": [
    "# 소프트맥스 회귀 구현"
   ]
  },
  {
   "cell_type": "code",
   "execution_count": 13,
   "metadata": {},
   "outputs": [
    {
     "data": {
      "text/plain": [
       "(torch.Size([8, 4]), torch.Size([8]))"
      ]
     },
     "execution_count": 13,
     "metadata": {},
     "output_type": "execute_result"
    }
   ],
   "source": [
    "x_train = [[1, 2, 1, 1],\n",
    "           [2, 1, 3, 2],\n",
    "           [3, 1, 3, 4],\n",
    "           [4, 1, 5, 5],\n",
    "           [1, 7, 5, 5],\n",
    "           [1, 2, 5, 6],\n",
    "           [1, 6, 6, 6],\n",
    "           [1, 7, 7, 7]]\n",
    "y_train = [2, 2, 2, 1, 1, 1, 0, 0]\n",
    "x_train = torch.FloatTensor(x_train)\n",
    "y_train = torch.LongTensor(y_train)\n",
    "\n",
    "x_train.shape, y_train.shape"
   ]
  },
  {
   "cell_type": "markdown",
   "metadata": {},
   "source": [
    "## 1. 로우-레벨"
   ]
  },
  {
   "cell_type": "code",
   "execution_count": 14,
   "metadata": {},
   "outputs": [
    {
     "data": {
      "text/plain": [
       "torch.Size([8, 3])"
      ]
     },
     "execution_count": 14,
     "metadata": {},
     "output_type": "execute_result"
    }
   ],
   "source": [
    "y_one_hot = torch.zeros(8, 3)\n",
    "y_one_hot.scatter_(1, y_train.unsqueeze(1), 1)\n",
    "y_one_hot.shape"
   ]
  },
  {
   "cell_type": "code",
   "execution_count": 15,
   "metadata": {},
   "outputs": [
    {
     "name": "stdout",
     "output_type": "stream",
     "text": [
      "epoch 0/10, cost: 1.098612\n",
      "epoch 1/10, cost: 1.032776\n",
      "epoch 2/10, cost: 0.985576\n",
      "epoch 3/10, cost: 0.967064\n",
      "epoch 4/10, cost: 0.966850\n",
      "epoch 5/10, cost: 0.985291\n",
      "epoch 6/10, cost: 1.032398\n",
      "epoch 7/10, cost: 1.047309\n",
      "epoch 8/10, cost: 1.091330\n",
      "epoch 9/10, cost: 1.030259\n",
      "epoch 10/10, cost: 1.069288\n"
     ]
    }
   ],
   "source": [
    "W = torch.zeros((4, 3), requires_grad=True)\n",
    "b = torch.zeros(1, requires_grad=True)\n",
    "o = optim.SGD([W, b], lr=0.1)\n",
    "\n",
    "epochs = 10\n",
    "for epoch in range(epochs + 1):\n",
    "    h = F.softmax(x_train.matmul(W) + b, dim=1)\n",
    "    c = (y_one_hot * -torch.log(h)).sum(dim=1).mean()\n",
    "    \n",
    "    o.zero_grad()\n",
    "    c.backward()\n",
    "    o.step()\n",
    "    \n",
    "    print(f'epoch {epoch}/{epochs}, cost: {c.item():6f}')"
   ]
  },
  {
   "cell_type": "markdown",
   "metadata": {},
   "source": [
    "## 2. 하이-레벨"
   ]
  },
  {
   "cell_type": "code",
   "execution_count": 16,
   "metadata": {},
   "outputs": [
    {
     "name": "stdout",
     "output_type": "stream",
     "text": [
      "epoch 0/10, cost: 1.098612\n",
      "epoch 1/10, cost: 1.032775\n",
      "epoch 2/10, cost: 0.985576\n",
      "epoch 3/10, cost: 0.967064\n",
      "epoch 4/10, cost: 0.966850\n",
      "epoch 5/10, cost: 0.985291\n",
      "epoch 6/10, cost: 1.032399\n",
      "epoch 7/10, cost: 1.047309\n",
      "epoch 8/10, cost: 1.091330\n",
      "epoch 9/10, cost: 1.030258\n",
      "epoch 10/10, cost: 1.069288\n"
     ]
    }
   ],
   "source": [
    "W = torch.zeros((4, 3), requires_grad=True)\n",
    "b = torch.zeros(1, requires_grad=True)\n",
    "o = optim.SGD([W, b], lr=0.1)\n",
    "\n",
    "epochs = 10\n",
    "for epoch in range(epochs + 1):\n",
    "    z = x_train.matmul(W) + b\n",
    "    c = F.cross_entropy(z, y_train)\n",
    "    \n",
    "    o.zero_grad()\n",
    "    c.backward()\n",
    "    o.step()\n",
    "    \n",
    "    print(f'epoch {epoch}/{epochs}, cost: {c.item():6f}')"
   ]
  },
  {
   "cell_type": "markdown",
   "metadata": {},
   "source": [
    "## 3. nn.Module"
   ]
  },
  {
   "cell_type": "code",
   "execution_count": 17,
   "metadata": {},
   "outputs": [
    {
     "name": "stdout",
     "output_type": "stream",
     "text": [
      "epoch 0/10, cost: 1.849513\n",
      "epoch 1/10, cost: 1.298513\n",
      "epoch 2/10, cost: 1.046181\n",
      "epoch 3/10, cost: 0.954982\n",
      "epoch 4/10, cost: 0.929780\n",
      "epoch 5/10, cost: 0.908864\n",
      "epoch 6/10, cost: 0.891565\n",
      "epoch 7/10, cost: 0.877385\n",
      "epoch 8/10, cost: 0.866827\n",
      "epoch 9/10, cost: 0.859866\n",
      "epoch 10/10, cost: 0.859701\n"
     ]
    }
   ],
   "source": [
    "model = nn.Linear(4, 3) # 입력개수, 클래스개수\n",
    "o = optim.SGD(model.parameters(), lr=0.1)\n",
    "\n",
    "epochs = 10\n",
    "for epoch in range(epochs + 1):\n",
    "    pred = model(x_train)\n",
    "    c = F.cross_entropy(pred, y_train)\n",
    "    \n",
    "    o.zero_grad()\n",
    "    c.backward()\n",
    "    o.step()\n",
    "    \n",
    "    print(f'epoch {epoch}/{epochs}, cost: {c.item():6f}')"
   ]
  },
  {
   "cell_type": "markdown",
   "metadata": {},
   "source": [
    "## 4. 클래스로 구현"
   ]
  },
  {
   "cell_type": "code",
   "execution_count": 18,
   "metadata": {},
   "outputs": [],
   "source": [
    "class SoftmaxClassifierModel(nn.Module):\n",
    "    def __init__(self):\n",
    "        super().__init__()\n",
    "        self.linear = nn.Linear(4, 3)\n",
    "    \n",
    "    def forward(self, x):\n",
    "        return self.linear(x)"
   ]
  },
  {
   "cell_type": "code",
   "execution_count": 19,
   "metadata": {},
   "outputs": [
    {
     "name": "stdout",
     "output_type": "stream",
     "text": [
      "epoch 0/10, cost: 1.845720\n",
      "epoch 1/10, cost: 1.460510\n",
      "epoch 2/10, cost: 1.265032\n",
      "epoch 3/10, cost: 1.231668\n",
      "epoch 4/10, cost: 1.214960\n",
      "epoch 5/10, cost: 1.176336\n",
      "epoch 6/10, cost: 1.106072\n",
      "epoch 7/10, cost: 1.103787\n",
      "epoch 8/10, cost: 1.042308\n",
      "epoch 9/10, cost: 1.056017\n",
      "epoch 10/10, cost: 0.989940\n"
     ]
    }
   ],
   "source": [
    "model = SoftmaxClassifierModel()\n",
    "o = optim.SGD(model.parameters(), lr=0.1)\n",
    "\n",
    "epochs = 10\n",
    "for epoch in range(epochs + 1):\n",
    "    pred = model(x_train)\n",
    "    c = F.cross_entropy(pred, y_train)\n",
    "    \n",
    "    o.zero_grad()\n",
    "    c.backward()\n",
    "    o.step()\n",
    "    \n",
    "    print(f'epoch {epoch}/{epochs}, cost: {c.item():6f}')"
   ]
  },
  {
   "cell_type": "markdown",
   "metadata": {},
   "source": [
    "# 소프트맥스 회귀로 MNIST 데이터 분류"
   ]
  },
  {
   "cell_type": "code",
   "execution_count": 20,
   "metadata": {},
   "outputs": [],
   "source": [
    "import torch\n",
    "import torch.nn as nn\n",
    "from torch.utils.data import DataLoader\n",
    "import torchvision.datasets as dsets\n",
    "import torchvision.transforms as transforms\n",
    "import random\n",
    "import matplotlib.pyplot as plt"
   ]
  },
  {
   "cell_type": "code",
   "execution_count": 21,
   "metadata": {},
   "outputs": [
    {
     "data": {
      "text/plain": [
       "device(type='cpu')"
      ]
     },
     "execution_count": 21,
     "metadata": {},
     "output_type": "execute_result"
    }
   ],
   "source": [
    "# GPU 연산\n",
    "device = torch.device('cuda' if torch.cuda.is_available() else 'cpu')\n",
    "device"
   ]
  },
  {
   "cell_type": "code",
   "execution_count": 22,
   "metadata": {},
   "outputs": [],
   "source": [
    "# 랜덤시드 고정\n",
    "random.seed(0)\n",
    "torch.manual_seed(0)\n",
    "if device == 'cuda':\n",
    "    torch.cuda.manual_seed_all(0)"
   ]
  },
  {
   "cell_type": "code",
   "execution_count": 23,
   "metadata": {},
   "outputs": [],
   "source": [
    "# 하이퍼파라미터\n",
    "training_epochs = 15\n",
    "batch_size = 100"
   ]
  },
  {
   "cell_type": "code",
   "execution_count": 24,
   "metadata": {},
   "outputs": [],
   "source": [
    "mnist_train = dsets.MNIST(\n",
    "    root='MNIST_data', # 다운로드 경로\n",
    "    train=True,\n",
    "    transform=transforms.ToTensor(), # 텐서로 변환\n",
    "    download=True # 데이터셋이 없다면 다운로드\n",
    ")\n",
    "\n",
    "mnist_test = dsets.MNIST(\n",
    "    root='MNIST_data',\n",
    "    train=False,\n",
    "    transform=transforms.ToTensor(),\n",
    "    download=True\n",
    ")"
   ]
  },
  {
   "cell_type": "code",
   "execution_count": 25,
   "metadata": {},
   "outputs": [],
   "source": [
    "dataloader = DataLoader(\n",
    "    dataset=mnist_train,\n",
    "    batch_size=batch_size,\n",
    "    shuffle=True,\n",
    "    drop_last=True # 미니배치보다 개수가 적은 마지막 배치의 과대평가 방지\n",
    ")"
   ]
  },
  {
   "cell_type": "code",
   "execution_count": 26,
   "metadata": {},
   "outputs": [
    {
     "data": {
      "text/plain": [
       "Linear(in_features=784, out_features=10, bias=True)"
      ]
     },
     "execution_count": 26,
     "metadata": {},
     "output_type": "execute_result"
    }
   ],
   "source": [
    "linear = nn.Linear(784, 10, bias=True).to(device) # to()로 연산메모리 설정\n",
    "linear"
   ]
  },
  {
   "cell_type": "code",
   "execution_count": 27,
   "metadata": {},
   "outputs": [],
   "source": [
    "criterion = nn.CrossEntropyLoss().to(device)\n",
    "optimizer = torch.optim.SGD(linear.parameters(), lr=0.1)"
   ]
  },
  {
   "cell_type": "code",
   "execution_count": 28,
   "metadata": {},
   "outputs": [
    {
     "name": "stdout",
     "output_type": "stream",
     "text": [
      "epoch 0/15, cost: 0.535949469\n",
      "epoch 1/15, cost: 0.359360933\n",
      "epoch 2/15, cost: 0.331327111\n",
      "epoch 3/15, cost: 0.316370010\n",
      "epoch 4/15, cost: 0.306923091\n",
      "epoch 5/15, cost: 0.300204843\n",
      "epoch 6/15, cost: 0.294921339\n",
      "epoch 7/15, cost: 0.290828079\n",
      "epoch 8/15, cost: 0.287171513\n",
      "epoch 9/15, cost: 0.284261644\n",
      "epoch 10/15, cost: 0.281829149\n",
      "epoch 11/15, cost: 0.279674202\n",
      "epoch 12/15, cost: 0.277828932\n",
      "epoch 13/15, cost: 0.276153117\n",
      "epoch 14/15, cost: 0.274277598\n",
      "learning finished\n"
     ]
    }
   ],
   "source": [
    "for epoch in range(training_epochs):\n",
    "    avg_cost = 0\n",
    "    total_batch = len(dataloader)\n",
    "    \n",
    "    for X, y in dataloader:\n",
    "        X = X.view(-1, 28 * 28).to(device) # (100, 784)\n",
    "        y = y.to(device) # 클래스(원핫x)\n",
    "        \n",
    "        hypothesis = linear(X)\n",
    "        optimizer.zero_grad()\n",
    "        cost = criterion(hypothesis, y)\n",
    "        cost.backward()\n",
    "        optimizer.step()\n",
    "        \n",
    "        avg_cost += cost / total_batch\n",
    "    print(f'epoch {epoch}/{training_epochs}, cost: {avg_cost:.9f}')\n",
    "\n",
    "print('learning finished')"
   ]
  },
  {
   "cell_type": "code",
   "execution_count": 29,
   "metadata": {},
   "outputs": [
    {
     "name": "stdout",
     "output_type": "stream",
     "text": [
      "accuracy: 0.8840000033378601\n",
      "label: 2\n",
      "pred: 2\n"
     ]
    },
    {
     "name": "stderr",
     "output_type": "stream",
     "text": [
      "c:\\workspace\\mlProject\\venv\\lib\\site-packages\\torchvision\\datasets\\mnist.py:70: UserWarning: test_labels has been renamed targets\n",
      "  warnings.warn(\"test_labels has been renamed targets\")\n",
      "c:\\workspace\\mlProject\\venv\\lib\\site-packages\\torchvision\\datasets\\mnist.py:80: UserWarning: test_data has been renamed data\n",
      "  warnings.warn(\"test_data has been renamed data\")\n"
     ]
    },
    {
     "data": {
      "image/png": "[encoded data removed]",
      "text/plain": [
       "<Figure size 432x288 with 1 Axes>"
      ]
     },
     "metadata": {
      "needs_background": "light"
     },
     "output_type": "display_data"
    }
   ],
   "source": [
    "# test data로 모델 테스트\n",
    "with torch.no_grad(): # gradient 계산 x\n",
    "    X_test = mnist_test.data.view(-1, 28 * 28).float().to(device)\n",
    "    y_test = mnist_test.test_labels.to(device)\n",
    "    \n",
    "    pred = linear(X_test)\n",
    "    correct_pred = torch.argmax(pred, 1) == y_test\n",
    "    acc = correct_pred.float().mean()\n",
    "    print(f'accuracy: {acc.item()}')\n",
    "    \n",
    "    r = random.randint(0, len(mnist_test) - 1)\n",
    "    X_single_data = mnist_test.test_data[r:r + 1].view(-1, 28 * 28).float().to(device)\n",
    "    y_single_data = mnist_test.test_labels[r:r + 1].to(device)\n",
    "    \n",
    "    print(f'label: {y_single_data.item()}')\n",
    "    single_pred = linear(X_single_data)\n",
    "    print(f'pred: {torch.argmax(single_pred, 1).item()}')\n",
    "    \n",
    "    plt.imshow(mnist_test.test_data[r:r + 1].view(28, 28), cmap='Greys', interpolation='nearest')\n",
    "    plt.show()"
   ]
  }
 ],
 "metadata": {
  "interpreter": {
   "hash": "76888c4a1af33f53bb52de03cc72a37cdcfc80966b4bb342e552f029c3bcc4e2"
  },
  "kernelspec": {
   "display_name": "Python 3.8.8 ('venv': venv)",
   "language": "python",
   "name": "python3"
  },
  "language_info": {
   "codemirror_mode": {
    "name": "ipython",
    "version": 3
   },
   "file_extension": ".py",
   "mimetype": "text/x-python",
   "name": "python",
   "nbconvert_exporter": "python",
   "pygments_lexer": "ipython3",
   "version": "3.8.8"
  },
  "orig_nbformat": 4
 },
 "nbformat": 4,
 "nbformat_minor": 2
}
