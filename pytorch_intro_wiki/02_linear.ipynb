{
 "cells": [
  {
   "cell_type": "markdown",
   "metadata": {},
   "source": [
    "# 선형 회귀 구현"
   ]
  },
  {
   "cell_type": "code",
   "execution_count": 1,
   "metadata": {},
   "outputs": [
    {
     "data": {
      "text/plain": [
       "<torch._C.Generator at 0x138e01c7650>"
      ]
     },
     "execution_count": 1,
     "metadata": {},
     "output_type": "execute_result"
    }
   ],
   "source": [
    "import torch\n",
    "import torch.nn as nn\n",
    "import torch.nn.functional as F\n",
    "import torch.optim as optim\n",
    "\n",
    "torch.manual_seed(1) # 랜덤시드 고정"
   ]
  },
  {
   "cell_type": "code",
   "execution_count": 2,
   "metadata": {},
   "outputs": [
    {
     "data": {
      "text/plain": [
       "(torch.Size([3, 1]), torch.Size([3, 1]))"
      ]
     },
     "execution_count": 2,
     "metadata": {},
     "output_type": "execute_result"
    }
   ],
   "source": [
    "x_train = torch.FloatTensor([[1], [2], [3]])\n",
    "y_train = torch.FloatTensor([[2], [4], [6]])\n",
    "\n",
    "x_train.shape, y_train.shape"
   ]
  },
  {
   "cell_type": "code",
   "execution_count": 3,
   "metadata": {},
   "outputs": [
    {
     "data": {
      "text/plain": [
       "(tensor([0.], requires_grad=True), tensor([0.], requires_grad=True))"
      ]
     },
     "execution_count": 3,
     "metadata": {},
     "output_type": "execute_result"
    }
   ],
   "source": [
    "W = torch.zeros(1, requires_grad=True) # 가중치 W를 0으로 초기화\n",
    "b = torch.zeros(1, requires_grad=True) # required_grad는 학습을 통해 값을 변경\n",
    "W, b"
   ]
  },
  {
   "cell_type": "code",
   "execution_count": 4,
   "metadata": {},
   "outputs": [
    {
     "name": "stdout",
     "output_type": "stream",
     "text": [
      "0 / 10  W : tensor([0.1867], requires_grad=True), b : tensor([0.0800], requires_grad=True), C : 18.66666603088379\n",
      "1 / 10  W : tensor([0.3527], requires_grad=True), b : tensor([0.1509], requires_grad=True), C : 14.770962715148926\n",
      "2 / 10  W : tensor([0.5004], requires_grad=True), b : tensor([0.2138], requires_grad=True), C : 11.691540718078613\n",
      "3 / 10  W : tensor([0.6318], requires_grad=True), b : tensor([0.2695], requires_grad=True), C : 9.257344245910645\n",
      "4 / 10  W : tensor([0.7487], requires_grad=True), b : tensor([0.3188], requires_grad=True), C : 7.333169460296631\n",
      "5 / 10  W : tensor([0.8528], requires_grad=True), b : tensor([0.3625], requires_grad=True), C : 5.812135219573975\n",
      "6 / 10  W : tensor([0.9453], requires_grad=True), b : tensor([0.4012], requires_grad=True), C : 4.6097636222839355\n",
      "7 / 10  W : tensor([1.0277], requires_grad=True), b : tensor([0.4353], requires_grad=True), C : 3.65927791595459\n",
      "8 / 10  W : tensor([1.1011], requires_grad=True), b : tensor([0.4655], requires_grad=True), C : 2.907895803451538\n",
      "9 / 10  W : tensor([1.1663], requires_grad=True), b : tensor([0.4922], requires_grad=True), C : 2.313894510269165\n"
     ]
    }
   ],
   "source": [
    "epochs = 10\n",
    "\n",
    "for epoch in range(epochs + 1):\n",
    "    \n",
    "    H = x_train * W + b # 가설 수립\n",
    "    C = torch.mean((H - y_train) ** 2) # 손실함수\n",
    "    \n",
    "    opt = optim.SGD([W, b], lr=0.01) # 최적화함수\n",
    "    opt.zero_grad() # 경사를 0으로 초기화\n",
    "    C.backward() # 손실함수를 미분하여 경사 계산\n",
    "    opt.step() # W, b 업데이트\n",
    "    \n",
    "    print(f'{epoch} / {epochs}  W : {W}, b : {b}, C : {C}') "
   ]
  },
  {
   "cell_type": "code",
   "execution_count": 11,
   "metadata": {},
   "outputs": [
    {
     "name": "stdout",
     "output_type": "stream",
     "text": [
      "w : 2.0\n",
      "w : 4.0\n",
      "w : 6.0\n",
      "w : 8.0\n",
      "w : 10.0\n",
      "w : 12.0\n",
      "w : 14.0\n",
      "w : 16.0\n",
      "w : 18.0\n",
      "w : 20.0\n"
     ]
    }
   ],
   "source": [
    "w = torch.tensor(2.0, requires_grad=True) # 가중치를 초기화하지 않았을 경우\n",
    "epochs = 10\n",
    "for epoch in range(epochs + 1):\n",
    "    z = 2 * w\n",
    "    z.backward()\n",
    "    print(f'w : {w.grad}') # 기울기 값을 누적"
   ]
  },
  {
   "cell_type": "markdown",
   "metadata": {},
   "source": [
    "# 자동 미분(Autograd)"
   ]
  },
  {
   "cell_type": "code",
   "execution_count": 15,
   "metadata": {},
   "outputs": [
    {
     "data": {
      "text/plain": [
       "tensor(8.)"
      ]
     },
     "execution_count": 15,
     "metadata": {},
     "output_type": "execute_result"
    }
   ],
   "source": [
    "w = torch.tensor(2.0, requires_grad=True)\n",
    "y = w ** 2\n",
    "z = 2 * y + 5\n",
    "\n",
    "z.backward() # 수식의 w에 대한 기울기 계산(미분)\n",
    "w.grad # w 미분값 저장"
   ]
  },
  {
   "cell_type": "markdown",
   "metadata": {},
   "source": [
    "# 다중 선형 회귀"
   ]
  },
  {
   "cell_type": "code",
   "execution_count": 16,
   "metadata": {},
   "outputs": [],
   "source": [
    "x1_train = torch.FloatTensor([[73], [93], [89], [96], [73]])\n",
    "x2_train = torch.FloatTensor([[80], [88], [91], [98], [66]])\n",
    "x3_train = torch.FloatTensor([[75], [93], [90], [100], [70]])\n",
    "y_train = torch.FloatTensor([[152], [185], [180], [196], [142]])\n",
    "\n",
    "w1 = torch.zeros(1, requires_grad=True)\n",
    "w2 = torch.zeros(1, requires_grad=True)\n",
    "w3 = torch.zeros(1, requires_grad=True)\n",
    "b = torch.zeros(1, requires_grad=True)"
   ]
  },
  {
   "cell_type": "code",
   "execution_count": 20,
   "metadata": {},
   "outputs": [
    {
     "name": "stdout",
     "output_type": "stream",
     "text": [
      "0/10 0.6740565896034241, 0.6603598594665527, 0.6762881875038147, 0.007934882305562496, 1.5568692684173584\n",
      "1/10 0.674111545085907, 0.6602991223335266, 0.6762938499450684, 0.007936389185488224, 1.5561809539794922\n",
      "2/10 0.6741665005683899, 0.6602384448051453, 0.676299512386322, 0.007937896065413952, 1.5555001497268677\n",
      "3/10 0.674221396446228, 0.6601777672767639, 0.6763051748275757, 0.00793940294533968, 1.5548484325408936\n",
      "4/10 0.6742762923240662, 0.6601170897483826, 0.6763108372688293, 0.007940909825265408, 1.5541678667068481\n",
      "5/10 0.6743311882019043, 0.6600564122200012, 0.676316499710083, 0.007942416705191135, 1.5534899234771729\n",
      "6/10 0.6743860244750977, 0.6599957346916199, 0.6763221025466919, 0.007943922653794289, 1.552833914756775\n",
      "7/10 0.674440860748291, 0.6599351167678833, 0.6763277053833008, 0.007945428602397442, 1.5521538257598877\n",
      "8/10 0.6744956970214844, 0.6598744988441467, 0.6763333082199097, 0.007946934551000595, 1.55147385597229\n",
      "9/10 0.6745505332946777, 0.6598138809204102, 0.6763389110565186, 0.007948440499603748, 1.550800085067749\n",
      "10/10 0.6746053695678711, 0.6597533226013184, 0.6763445734977722, 0.007949946448206902, 1.5501396656036377\n"
     ]
    }
   ],
   "source": [
    "optimizer = optim.SGD([w1, w2, w3, b], lr=1e-5)\n",
    "\n",
    "epochs = 10\n",
    "for epoch in range(epochs + 1):\n",
    "    \n",
    "    H = x1_train * w1 + x2_train * w2 + x3_train * w3 + b\n",
    "    C = torch.mean((H - y_train) ** 2)\n",
    "    \n",
    "    optimizer.zero_grad()\n",
    "    C.backward()\n",
    "    optimizer.step()\n",
    "    \n",
    "    print(f'{epoch}/{epochs} {w1.item()}, {w2.item()}, {w3.item()}, {b.item()}, {C.item()}')"
   ]
  },
  {
   "cell_type": "code",
   "execution_count": 21,
   "metadata": {},
   "outputs": [
    {
     "data": {
      "text/plain": [
       "(torch.Size([5, 3]), torch.Size([5, 1]))"
      ]
     },
     "execution_count": 21,
     "metadata": {},
     "output_type": "execute_result"
    }
   ],
   "source": [
    "# 행렬 연산\n",
    "\n",
    "x_train  =  torch.FloatTensor([[73,  80,  75], \n",
    "                               [93,  88,  93], \n",
    "                               [89,  91,  80], \n",
    "                               [96,  98,  100], \n",
    "                               [73,  66,  70]])\n",
    "y_train  =  torch.FloatTensor([[152],  [185],  [180],  [196],  [142]])\n",
    "x_train.shape, y_train.shape"
   ]
  },
  {
   "cell_type": "code",
   "execution_count": null,
   "metadata": {},
   "outputs": [],
   "source": []
  },
  {
   "cell_type": "code",
   "execution_count": null,
   "metadata": {},
   "outputs": [],
   "source": []
  }
 ],
 "metadata": {
  "interpreter": {
   "hash": "76888c4a1af33f53bb52de03cc72a37cdcfc80966b4bb342e552f029c3bcc4e2"
  },
  "kernelspec": {
   "display_name": "Python 3.8.8 ('venv': venv)",
   "language": "python",
   "name": "python3"
  },
  "language_info": {
   "codemirror_mode": {
    "name": "ipython",
    "version": 3
   },
   "file_extension": ".py",
   "mimetype": "text/x-python",
   "name": "python",
   "nbconvert_exporter": "python",
   "pygments_lexer": "ipython3",
   "version": "3.8.8"
  },
  "orig_nbformat": 4
 },
 "nbformat": 4,
 "nbformat_minor": 2
}
