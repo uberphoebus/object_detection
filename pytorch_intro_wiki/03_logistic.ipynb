{
 "cells": [
  {
   "cell_type": "markdown",
   "metadata": {},
   "source": [
    "# 로지스틱 회귀"
   ]
  },
  {
   "cell_type": "markdown",
   "metadata": {},
   "source": [
    "## 시그모이드 함수"
   ]
  },
  {
   "cell_type": "code",
   "execution_count": 1,
   "metadata": {},
   "outputs": [],
   "source": [
    "%matplotlib inline\n",
    "import numpy as np\n",
    "import matplotlib.pyplot as plt\n",
    "\n",
    "def sigmoid(x):\n",
    "    return 1 / (1 + np.exp(-x))"
   ]
  },
  {
   "cell_type": "code",
   "execution_count": 2,
   "metadata": {},
   "outputs": [
    {
     "data": {
      "image/png": "[encoded data removed]",
      "text/plain": [
       "<Figure size 432x288 with 1 Axes>"
      ]
     },
     "metadata": {
      "needs_background": "light"
     },
     "output_type": "display_data"
    }
   ],
   "source": [
    "x = np.arange(-5.0, 5.0, 0.1)\n",
    "y1 = sigmoid(0.5 * x)\n",
    "y2 = sigmoid(x)\n",
    "y3 = sigmoid(2 * x)\n",
    "\n",
    "plt.plot(x, y1, 'r')\n",
    "plt.plot(x, y2, 'g')\n",
    "plt.plot(x, y3, 'b')\n",
    "plt.plot([0, 0], [1, 0], ':') # 가운데 선\n",
    "plt.title('Sigmoid Function')\n",
    "plt.show()"
   ]
  },
  {
   "cell_type": "markdown",
   "metadata": {},
   "source": [
    "## 파이토치로 로지스틱 회귀 구현하기"
   ]
  },
  {
   "cell_type": "code",
   "execution_count": 3,
   "metadata": {},
   "outputs": [
    {
     "data": {
      "text/plain": [
       "(torch.Size([6, 2]), torch.Size([6, 1]))"
      ]
     },
     "execution_count": 3,
     "metadata": {},
     "output_type": "execute_result"
    }
   ],
   "source": [
    "import torch\n",
    "import torch.nn as nn\n",
    "import torch.nn.functional as F\n",
    "import torch.optim as optim\n",
    "\n",
    "torch.manual_seed(1)\n",
    "\n",
    "x_data = [[1, 2], [2, 3], [3, 1], [4, 3], [5, 3], [6, 2]]\n",
    "y_data = [[0], [0], [0], [1], [1], [1]]\n",
    "x_train = torch.FloatTensor(x_data)\n",
    "y_train = torch.FloatTensor(y_data)\n",
    "\n",
    "x_train.shape, y_train.shape"
   ]
  },
  {
   "cell_type": "code",
   "execution_count": 4,
   "metadata": {},
   "outputs": [
    {
     "data": {
      "text/plain": [
       "tensor([[0.5000],\n",
       "        [0.5000],\n",
       "        [0.5000],\n",
       "        [0.5000],\n",
       "        [0.5000],\n",
       "        [0.5000]], grad_fn=<MulBackward0>)"
      ]
     },
     "execution_count": 4,
     "metadata": {},
     "output_type": "execute_result"
    }
   ],
   "source": [
    "W = torch.zeros((2, 1), requires_grad=True)\n",
    "b = torch.zeros(1, requires_grad=True)\n",
    "H = 1 / (1 + torch.exp(-(x_train.matmul(W) + b)))\n",
    "H"
   ]
  },
  {
   "cell_type": "code",
   "execution_count": 5,
   "metadata": {},
   "outputs": [
    {
     "data": {
      "text/plain": [
       "tensor([[0.5000],\n",
       "        [0.5000],\n",
       "        [0.5000],\n",
       "        [0.5000],\n",
       "        [0.5000],\n",
       "        [0.5000]], grad_fn=<SigmoidBackward0>)"
      ]
     },
     "execution_count": 5,
     "metadata": {},
     "output_type": "execute_result"
    }
   ],
   "source": [
    "H = torch.sigmoid(x_train.matmul(W) + b)\n",
    "H # 앞선 식과 동일"
   ]
  },
  {
   "cell_type": "code",
   "execution_count": 6,
   "metadata": {},
   "outputs": [
    {
     "data": {
      "text/plain": [
       "tensor([[0.6931],\n",
       "        [0.6931],\n",
       "        [0.6931],\n",
       "        [0.6931],\n",
       "        [0.6931],\n",
       "        [0.6931]], grad_fn=<NegBackward0>)"
      ]
     },
     "execution_count": 6,
     "metadata": {},
     "output_type": "execute_result"
    }
   ],
   "source": [
    "losses = -(y_train * torch.log(H) + (1 - y_train) * torch.log(1 - H))\n",
    "losses # 모든 원소에 대한 오차"
   ]
  },
  {
   "cell_type": "code",
   "execution_count": 7,
   "metadata": {},
   "outputs": [
    {
     "data": {
      "text/plain": [
       "tensor(0.6931, grad_fn=<MeanBackward0>)"
      ]
     },
     "execution_count": 7,
     "metadata": {},
     "output_type": "execute_result"
    }
   ],
   "source": [
    "cost = losses.mean() # 오차의 평균\n",
    "cost"
   ]
  },
  {
   "cell_type": "code",
   "execution_count": 8,
   "metadata": {},
   "outputs": [
    {
     "name": "stdout",
     "output_type": "stream",
     "text": [
      "epoch 0/10, cost: 0.6931471824645996\n",
      "epoch 1/10, cost: 1.0092923641204834\n",
      "epoch 2/10, cost: 1.410617709159851\n",
      "epoch 3/10, cost: 2.546337366104126\n",
      "epoch 4/10, cost: 0.6210732460021973\n",
      "epoch 5/10, cost: 0.8122705817222595\n",
      "epoch 6/10, cost: 1.5923551321029663\n",
      "epoch 7/10, cost: 0.4422001838684082\n",
      "epoch 8/10, cost: 0.4600818157196045\n",
      "epoch 9/10, cost: 0.49557098746299744\n",
      "epoch 10/10, cost: 0.6713531613349915\n"
     ]
    }
   ],
   "source": [
    "x_data = [[1, 2], [2, 3], [3, 1], [4, 3], [5, 3], [6, 2]]\n",
    "y_data = [[0], [0], [0], [1], [1], [1]]\n",
    "x_train = torch.FloatTensor(x_data)\n",
    "y_train = torch.FloatTensor(y_data)\n",
    "\n",
    "W = torch.zeros((2, 1), requires_grad=True)\n",
    "b = torch.zeros(1, requires_grad=True)\n",
    "opt = optim.SGD([W, b], lr=1)\n",
    "\n",
    "epochs = 10\n",
    "for epoch in range(epochs + 1):\n",
    "    H = torch.sigmoid(x_train.matmul(W) + b)\n",
    "    cost = -(y_train * torch.log(H) + (1 - y_train) * torch.log(1 - H)).mean()\n",
    "    \n",
    "    opt.zero_grad()\n",
    "    cost.backward()\n",
    "    opt.step()\n",
    "    \n",
    "    print(f'epoch {epoch}/{epochs}, cost: {cost.item()}')"
   ]
  },
  {
   "cell_type": "code",
   "execution_count": 9,
   "metadata": {},
   "outputs": [
    {
     "data": {
      "text/plain": [
       "tensor([[0.0615],\n",
       "        [0.0480],\n",
       "        [0.4994],\n",
       "        [0.2065],\n",
       "        [0.3715],\n",
       "        [0.7985]], grad_fn=<SigmoidBackward0>)"
      ]
     },
     "execution_count": 9,
     "metadata": {},
     "output_type": "execute_result"
    }
   ],
   "source": [
    "H = torch.sigmoid(x_train.matmul(W) + b)\n",
    "H"
   ]
  },
  {
   "cell_type": "code",
   "execution_count": 10,
   "metadata": {},
   "outputs": [
    {
     "data": {
      "text/plain": [
       "(tensor([[False],\n",
       "         [False],\n",
       "         [False],\n",
       "         [False],\n",
       "         [False],\n",
       "         [ True]]),\n",
       " tensor([[ 0.8205],\n",
       "         [-1.0821]], requires_grad=True),\n",
       " tensor([-1.3817], requires_grad=True))"
      ]
     },
     "execution_count": 10,
     "metadata": {},
     "output_type": "execute_result"
    }
   ],
   "source": [
    "pred = H >= torch.FloatTensor([0.5]) # 0.5 이상만 True\n",
    "pred, W, b"
   ]
  },
  {
   "cell_type": "markdown",
   "metadata": {},
   "source": [
    "# nn.Module로 구현하는 로지스틱 회귀"
   ]
  },
  {
   "cell_type": "code",
   "execution_count": 11,
   "metadata": {},
   "outputs": [
    {
     "name": "stdout",
     "output_type": "stream",
     "text": [
      "epoch 0/10, cost: 0.5397130846977234, accuracy: 0.833333\n",
      "epoch 1/10, cost: 0.5270015597343445, accuracy: 0.833333\n",
      "epoch 2/10, cost: 0.6201538443565369, accuracy: 0.500000\n",
      "epoch 3/10, cost: 1.1884881258010864, accuracy: 0.500000\n",
      "epoch 4/10, cost: 0.8041677474975586, accuracy: 0.666667\n",
      "epoch 5/10, cost: 1.632125735282898, accuracy: 0.500000\n",
      "epoch 6/10, cost: 0.44555047154426575, accuracy: 0.666667\n",
      "epoch 7/10, cost: 0.47112664580345154, accuracy: 0.833333\n",
      "epoch 8/10, cost: 0.5224076509475708, accuracy: 0.500000\n",
      "epoch 9/10, cost: 0.7649615406990051, accuracy: 0.666667\n",
      "epoch 10/10, cost: 0.6148514747619629, accuracy: 0.666667\n"
     ]
    }
   ],
   "source": [
    "x_data = [[1, 2], [2, 3], [3, 1], [4, 3], [5, 3], [6, 2]]\n",
    "y_data = [[0], [0], [0], [1], [1], [1]]\n",
    "x_train = torch.FloatTensor(x_data)\n",
    "y_train = torch.FloatTensor(y_data)\n",
    "\n",
    "model = nn.Sequential( # 레이어를 쌓는 시퀀셜\n",
    "    nn.Linear(2, 1),\n",
    "    nn.Sigmoid()\n",
    ")\n",
    "\n",
    "opt = optim.SGD(model.parameters(), lr=1)\n",
    "epochs = 10\n",
    "for epoch in range(epochs + 1):\n",
    "    H = model(x_train)\n",
    "    cost = F.binary_cross_entropy(H, y_train)\n",
    "    \n",
    "    opt.zero_grad()\n",
    "    cost.backward()\n",
    "    opt.step()\n",
    "    \n",
    "    pred = H >= torch.FloatTensor([0.5]) # 예측값 0.5 이상 True\n",
    "    correct_pred = pred.float() == y_train # 실제값과 일치할 때만 True\n",
    "    acc = correct_pred.sum().item() / len(correct_pred)\n",
    "    print(f'epoch {epoch}/{epochs}, cost: {cost.item()}, accuracy: {acc:3f}')"
   ]
  },
  {
   "cell_type": "code",
   "execution_count": 12,
   "metadata": {},
   "outputs": [
    {
     "data": {
      "text/plain": [
       "(tensor([[0.4539],\n",
       "         [0.7702],\n",
       "         [0.9794],\n",
       "         [0.9921],\n",
       "         [0.9987],\n",
       "         [0.9999]], grad_fn=<SigmoidBackward0>),\n",
       " [Parameter containing:\n",
       "  tensor([[ 1.8139, -0.4193]], requires_grad=True),\n",
       "  Parameter containing:\n",
       "  tensor([-1.1604], requires_grad=True)])"
      ]
     },
     "execution_count": 12,
     "metadata": {},
     "output_type": "execute_result"
    }
   ],
   "source": [
    "model(x_train), list(model.parameters())"
   ]
  },
  {
   "cell_type": "markdown",
   "metadata": {},
   "source": [
    "# 클래스로 파이토치 모델 구현하기"
   ]
  },
  {
   "cell_type": "code",
   "execution_count": 13,
   "metadata": {},
   "outputs": [],
   "source": [
    "class BinaryClassifier(nn.Module):\n",
    "    def __init__(self):\n",
    "        super().__init__()\n",
    "        self.linear = nn.Linear(2, 1)\n",
    "        self.sigmoid = nn.Sigmoid()\n",
    "    \n",
    "    def forward(self, x):\n",
    "        return self.sigmoid(self.linear(x))"
   ]
  },
  {
   "cell_type": "code",
   "execution_count": 14,
   "metadata": {},
   "outputs": [
    {
     "name": "stdout",
     "output_type": "stream",
     "text": [
      "epoch 0/10, cost: 0.6149943470954895, accuracy: 0.666667\n",
      "epoch 1/10, cost: 0.8097653388977051, accuracy: 0.666667\n",
      "epoch 2/10, cost: 1.2156200408935547, accuracy: 0.666667\n",
      "epoch 3/10, cost: 2.2787606716156006, accuracy: 0.666667\n",
      "epoch 4/10, cost: 0.5576614737510681, accuracy: 0.666667\n",
      "epoch 5/10, cost: 0.62872314453125, accuracy: 0.666667\n",
      "epoch 6/10, cost: 0.9388265609741211, accuracy: 0.666667\n",
      "epoch 7/10, cost: 0.7147286534309387, accuracy: 0.666667\n",
      "epoch 8/10, cost: 1.116650938987732, accuracy: 0.666667\n",
      "epoch 9/10, cost: 0.5795651078224182, accuracy: 0.666667\n",
      "epoch 10/10, cost: 0.7475497126579285, accuracy: 0.666667\n"
     ]
    }
   ],
   "source": [
    "x_data = [[1, 2], [2, 3], [3, 1], [4, 3], [5, 3], [6, 2]]\n",
    "y_data = [[0], [0], [0], [1], [1], [1]]\n",
    "x_train = torch.FloatTensor(x_data)\n",
    "y_train = torch.FloatTensor(y_data)\n",
    "\n",
    "model = BinaryClassifier()\n",
    "opt = optim.SGD(model.parameters(), lr=1)\n",
    "\n",
    "epochs = 10\n",
    "for epoch in range(epochs + 1):\n",
    "    h = model(x_train)\n",
    "    cost = F.binary_cross_entropy(h, y_train)\n",
    "    \n",
    "    opt.zero_grad()\n",
    "    cost.backward()\n",
    "    opt.step()\n",
    "    \n",
    "    print(f'epoch {epoch}/{epochs}, cost: {cost.item()}, accuracy: {acc:3f}')"
   ]
  }
 ],
 "metadata": {
  "interpreter": {
   "hash": "76888c4a1af33f53bb52de03cc72a37cdcfc80966b4bb342e552f029c3bcc4e2"
  },
  "kernelspec": {
   "display_name": "Python 3.8.8 ('venv': venv)",
   "language": "python",
   "name": "python3"
  },
  "language_info": {
   "codemirror_mode": {
    "name": "ipython",
    "version": 3
   },
   "file_extension": ".py",
   "mimetype": "text/x-python",
   "name": "python",
   "nbconvert_exporter": "python",
   "pygments_lexer": "ipython3",
   "version": "3.8.8"
  },
  "orig_nbformat": 4
 },
 "nbformat": 4,
 "nbformat_minor": 2
}
